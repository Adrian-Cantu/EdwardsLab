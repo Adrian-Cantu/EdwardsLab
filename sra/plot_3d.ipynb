{
 "metadata": {
  "name": ""
 },
 "nbformat": 3,
 "nbformat_minor": 0,
 "worksheets": [
  {
   "cells": [
    {
     "cell_type": "code",
     "collapsed": false,
     "input": [
      "# import everything\n",
      "\n",
      "import os\n",
      "import random\n",
      "import sys\n",
      "import gzip\n",
      "\n",
      "import matplotlib.lines\n",
      "import matplotlib.colors\n",
      "import matplotlib.pyplot as plt\n",
      "from mpl_toolkits.mplot3d import Axes3D"
     ],
     "language": "python",
     "metadata": {},
     "outputs": [],
     "prompt_number": 1
    },
    {
     "cell_type": "code",
     "collapsed": false,
     "input": [
      "# read the gziped files\n",
      "\n",
      "explib = {}\n",
      "with gzip.open('run_accession-experiment_lib.tsv.gz', 'r') as f:\n",
      "    for l in f:\n",
      "        p = l.strip().split(\"\\t\")\n",
      "        if len(p) == 1:\n",
      "            p.append('OTHER')\n",
      "        explib[p[0]] = p[1]"
     ],
     "language": "python",
     "metadata": {},
     "outputs": [],
     "prompt_number": 2
    },
    {
     "cell_type": "code",
     "collapsed": false,
     "input": [
      "data = {}\n",
      "experimentlibraries = {}\n",
      "with gzip.open('SRA.partie.tsv.gz', 'r') as f:\n",
      "    for l in f:\n",
      "        p = l.strip().split(\"\\t\")\n",
      "        # data is unique kmers, percent 16S, percent phage, percent prok, percent prok + phage\n",
      "        p[0] = p[0].replace('.sra', '')\n",
      "        data[p[0]] = [float(p[2]), float(p[4]), float(p[6]), float(p[8]), float(p[6]) + float(p[8])]\n",
      "        if p[0] in explib:\n",
      "            if explib[p[0]] in experimentlibraries:\n",
      "                experimentlibraries[explib[p[0]]].append(p[0])\n",
      "            else:\n",
      "                experimentlibraries[explib[p[0]]] = [p[0]]\n",
      "        else:\n",
      "            sys.stderr.write(\"No \" + p[0] + \" in exp\\n\")\n",
      "\n"
     ],
     "language": "python",
     "metadata": {},
     "outputs": [],
     "prompt_number": 3
    },
    {
     "cell_type": "code",
     "collapsed": false,
     "input": [
      "# initiate the figure\n",
      "allcolors = ['indigo', 'gold', 'hotpink', 'firebrick', 'indianred', 'yellow',\n",
      "             'mistyrose', 'olive', 'pink', 'tomato', 'orangered', 'navajowhite', 'lime', 'palegreen', 'greenyellow',\n",
      "             'burlywood', 'seashell', 'mediumspringgreen', 'fuchsia', 'papayawhip', 'blanchedalmond', 'chartreuse',\n",
      "             'dimgray', 'black', 'peachpuff', 'springgreen', 'aquamarine', 'white', 'orange', 'brown', 'ivory',\n",
      "             'dodgerblue', 'peru', 'lawngreen', 'chocolate', 'crimson', 'forestgreen', 'slateblue', 'cyan',\n",
      "             'mintcream', 'silver', 'antiquewhite', 'mediumorchid', 'skyblue', 'gray', 'goldenrod', 'floralwhite',\n",
      "             'moccasin', 'saddlebrown', 'grey', 'mediumvioletred', 'slategrey', 'red', 'deeppink', 'limegreen',\n",
      "             'palegoldenrod', 'plum', 'turquoise', 'lavender', 'maroon', 'yellowgreen', 'sandybrown', 'thistle',\n",
      "             'violet', 'navy', 'magenta', 'dimgrey', 'tan', 'rosybrown', 'olivedrab', 'blue', 'ghostwhite',\n",
      "             'honeydew', 'cornflowerblue', 'linen', 'powderblue', 'seagreen', 'snow', 'sienna', 'mediumblue',\n",
      "             'royalblue', 'green', 'mediumpurple', 'midnightblue', 'cornsilk', 'paleturquoise', 'bisque',\n",
      "             'slategray', 'khaki', 'wheat', 'teal', 'deepskyblue', 'salmon', 'steelblue', 'palevioletred',\n",
      "             'aliceblue', 'orchid', 'gainsboro', 'mediumseagreen', 'mediumturquoise', 'lemonchiffon', 'cadetblue',\n",
      "             'lavenderblush', 'coral', 'purple', 'aqua', 'whitesmoke', 'mediumslateblue', 'mediumaquamarine',\n",
      "             'beige', 'blueviolet', 'azure', 'oldlace']\n",
      "\n",
      "fig = plt.figure()\n",
      "ax = fig.add_subplot(111, projection='3d')\n",
      "labels = {}\n"
     ],
     "language": "python",
     "metadata": {},
     "outputs": [],
     "prompt_number": 4
    },
    {
     "cell_type": "code",
     "collapsed": false,
     "input": [
      "# plot the scatter plot\n",
      "for e in ['WGS', 'AMPLICON', 'CLONE', 'OTHER', 'RNA-Seq', 'WGA']:\n",
      "    col = allcolors.pop(0)\n",
      "    print(e + \"\\t\" + str(len(experimentlibraries[e])))\n",
      "\n",
      "    phageprok = []\n",
      "    sixs = []\n",
      "    kms = []\n",
      "    labels[col] = e\n",
      "\n",
      "    for i in range(1000):\n",
      "        r = random.randint(0, len(experimentlibraries[e]) - 1)\n",
      "        phageprok.append(data[experimentlibraries[e][r]][3])\n",
      "        sixs.append(data[experimentlibraries[e][r]][1])\n",
      "        kms.append(data[experimentlibraries[e][r]][0])\n",
      "\n",
      "    ax.scatter(phageprok, sixs, kms, label=e, c=col)\n"
     ],
     "language": "python",
     "metadata": {},
     "outputs": [
      {
       "output_type": "stream",
       "stream": "stdout",
       "text": [
        "WGS\t44651\n",
        "AMPLICON\t160247\n",
        "CLONE\t407"
       ]
      },
      {
       "output_type": "stream",
       "stream": "stdout",
       "text": [
        "\n",
        "OTHER\t6720\n",
        "RNA-Seq\t2525"
       ]
      },
      {
       "output_type": "stream",
       "stream": "stdout",
       "text": [
        "\n",
        "WGA\t1265\n"
       ]
      }
     ],
     "prompt_number": 5
    },
    {
     "cell_type": "code",
     "collapsed": false,
     "input": [
      "# generate the legend\n",
      "# this is to get the legend on a 3D plot\n",
      "scatterproxy = []\n",
      "labeltexts = []\n",
      "for color in labels:\n",
      "    scatterproxy.append(matplotlib.lines.Line2D([0], [0], linestyle=\"none\", c=color, marker='o'))\n",
      "    labeltexts.append(labels[color])\n",
      "\n",
      "ax.legend(scatterproxy, labeltexts, numpoints=1)\n"
     ],
     "language": "python",
     "metadata": {},
     "outputs": [
      {
       "metadata": {},
       "output_type": "pyout",
       "prompt_number": 6,
       "text": [
        "<matplotlib.legend.Legend at 0x7f5057ece750>"
       ]
      }
     ],
     "prompt_number": 6
    },
    {
     "cell_type": "code",
     "collapsed": false,
     "input": [
      "# show the figure\n",
      "ax.set_xlabel('Percent prokaryote')\n",
      "ax.set_ylabel('Percent 16S')\n",
      "ax.set_zlabel('Kmers')\n",
      "plt.show()\n"
     ],
     "language": "python",
     "metadata": {},
     "outputs": [],
     "prompt_number": 7
    },
    {
     "cell_type": "code",
     "collapsed": false,
     "input": [],
     "language": "python",
     "metadata": {},
     "outputs": []
    }
   ],
   "metadata": {}
  }
 ]
}